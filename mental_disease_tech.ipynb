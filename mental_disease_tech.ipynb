{
 "cells": [
  {
   "cell_type": "code",
   "execution_count": null,
   "metadata": {},
   "outputs": [],
   "source": [
    "%defaultDatasource jdbc:h2:mem:db"
   ]
  },
  {
   "cell_type": "code",
   "execution_count": null,
   "metadata": {},
   "outputs": [],
   "source": [
    "CREATE TABLE Individuo (\n",
    "  Id VARCHAR(5) NOT NULL,\n",
    "  Genero VARCHAR(50),\n",
    "  Idade VARCHAR(50),\n",
    "  Empresa_Tec VARCHAR(50),\n",
    "  Trabalho_remoto VARCHAR(50),\n",
    "  PRIMARY KEY(Id)\n",
    ") AS SELECT\n",
    "    Timestamp,\n",
    "    Gender,\n",
    "    Age,\n",
    "    tech_company,\n",
    "    remote_work\n",
    "FROM CSVREAD('./survey.csv');"
   ]
  }
 ],
 "metadata": {
  "kernelspec": {
   "display_name": "SQL",
   "language": "SQL",
   "name": "sql"
  },
  "language_info": {
   "codemirror_mode": "sql",
   "file_extension": ".sql",
   "mimetype": "",
   "name": "SQL",
   "nbconverter_exporter": "",
   "version": ""
  }
 },
 "nbformat": 4,
 "nbformat_minor": 2
}
